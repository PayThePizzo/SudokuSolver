{
 "cells": [
  {
   "cell_type": "code",
   "execution_count": 1,
   "id": "26105409-58a2-4477-8c97-6b3c70375aa7",
   "metadata": {},
   "outputs": [],
   "source": [
    "# Interactive\n",
    "%matplotlib notebook\n",
    "# Static\n",
    "# %matplotlib inline\n",
    "\n",
    "# Environment for this notebook\n",
    "import os\n",
    "import numpy as np\n",
    "import pandas as pd\n",
    "import matplotlib.pyplot as plt\n",
    "import seaborn as sns\n",
    "import scipy\n",
    "import warnings\n",
    "import IPython\n",
    "\n",
    "# Set the style for the plots\n",
    "sns.set()\n",
    "plt.style.use('ggplot')\n",
    "sns.set_style(\"darkgrid\")\n",
    "# Ignore warnings\n",
    "warnings.filterwarnings('ignore')"
   ]
  },
  {
   "cell_type": "code",
   "execution_count": 3,
   "id": "77a98e0f-2af1-4cbf-bc47-523603a92c16",
   "metadata": {},
   "outputs": [],
   "source": [
    "def string_to_sudoku_board(puzzle: str, empty_cell: str = '0'):\n",
    "    \"\"\"\n",
    "    Convert a Sudoku string into a 2D 9x9 list of integers (board).\n",
    "\n",
    "    Args:\n",
    "        puzzle (str): A string of length 81, containing\n",
    "            digits 1-9 and one empty cell symbol.\n",
    "        empty_cell (str): A string representing the empty\n",
    "            celll symbol.\n",
    "\n",
    "    Raises:\n",
    "        TypeError: When `puzzle` or `empty_cell` are not\n",
    "            strings\n",
    "        ValueError: When `puzzle` length is not exactly 81,\n",
    "            or when the unique digits are not exactly 1-9 plus\n",
    "            the empty cell symbol (hence 10).\n",
    "\n",
    "    Returns:\n",
    "        list[list[int]]: An array-like 2D 9x9 list of integers\n",
    "            representing the sudoku board puzzle.\n",
    "    \"\"\"\n",
    "    # Check the type is correct\n",
    "    if not isinstance(puzzle, str) or not isinstance(empty_cell, str):\n",
    "        raise TypeError(\n",
    "            'Both the puzzle and the empty cell must be strings.'\n",
    "        )\n",
    "\n",
    "    # Check if the string is exactly 81 characters (a 9x9 Sudoku board)\n",
    "    if len(puzzle) != 81:\n",
    "        raise ValueError(\n",
    "            'The puzzle string must be exactly 81 characters long.'\n",
    "        )\n",
    "\n",
    "    # Find the unique values in the string\n",
    "    unique_values = set(puzzle)\n",
    "    # Record the valid values for sudoku\n",
    "    valid_values = set('123456789')\n",
    "    valid_values.add(empty_cell)\n",
    "\n",
    "    # Check if unique set is subset of valid set and length is respected\n",
    "    if len(list(unique_values)) > 10 or not (unique_values <= valid_values):\n",
    "        raise ValueError(\n",
    "            'The puzzle string must contain exactly 10 unique values:' +\n",
    "            'digits 1-9 and one empty cell symbol. '\n",
    "        )\n",
    "\n",
    "    del unique_values, valid_values\n",
    "\n",
    "    # Construct Board\n",
    "    board = []\n",
    "    step = 9\n",
    "    for row in range(step):\n",
    "        chunk = []\n",
    "        for col in range(step):\n",
    "            cell = puzzle[row * step + col]\n",
    "            # Append value to row\n",
    "            if cell == empty_cell:\n",
    "                chunk.append(0)\n",
    "            else:\n",
    "                chunk.append(int(cell))\n",
    "\n",
    "        board.append(chunk)\n",
    "\n",
    "    return board\n"
   ]
  },
  {
   "cell_type": "code",
   "execution_count": 4,
   "id": "eabb9044-1a84-49fe-bffc-feffe1c50b88",
   "metadata": {},
   "outputs": [],
   "source": [
    "# Working folder, where this file is at\n",
    "WORKING_DIR = os.getcwd()"
   ]
  },
  {
   "cell_type": "code",
   "execution_count": 6,
   "id": "99d8edd0-ace1-4965-80e7-3d182a860881",
   "metadata": {},
   "outputs": [
    {
     "data": {
      "text/plain": [
       "'C:\\\\Users\\\\PayThePizzo\\\\Projects\\\\SudokuSolver\\\\data'"
      ]
     },
     "execution_count": 6,
     "metadata": {},
     "output_type": "execute_result"
    }
   ],
   "source": [
    "# Find the right directory\n",
    "DATA_DIR = os.path.join(os.path.dirname(WORKING_DIR), 'data')\n",
    "DATA_DIR"
   ]
  },
  {
   "cell_type": "code",
   "execution_count": 7,
   "id": "140e3255-ab56-4d3a-b392-e28886102021",
   "metadata": {},
   "outputs": [],
   "source": [
    "# Import the Dataset\n",
    "df_path = os.path.join(DATA_DIR, 'sudoku_cluewise.csv')\n",
    "df = pd.read_csv(df_path)"
   ]
  },
  {
   "cell_type": "code",
   "execution_count": 8,
   "id": "097746bf-8e05-49fd-bc56-ac840311c8b0",
   "metadata": {},
   "outputs": [
    {
     "data": {
      "text/html": [
       "<div>\n",
       "<style scoped>\n",
       "    .dataframe tbody tr th:only-of-type {\n",
       "        vertical-align: middle;\n",
       "    }\n",
       "\n",
       "    .dataframe tbody tr th {\n",
       "        vertical-align: top;\n",
       "    }\n",
       "\n",
       "    .dataframe thead th {\n",
       "        text-align: right;\n",
       "    }\n",
       "</style>\n",
       "<table border=\"1\" class=\"dataframe\">\n",
       "  <thead>\n",
       "    <tr style=\"text-align: right;\">\n",
       "      <th></th>\n",
       "      <th>clue_numbers</th>\n",
       "    </tr>\n",
       "  </thead>\n",
       "  <tbody>\n",
       "    <tr>\n",
       "      <th>count</th>\n",
       "      <td>4.000000e+06</td>\n",
       "    </tr>\n",
       "    <tr>\n",
       "      <th>mean</th>\n",
       "      <td>4.850000e+01</td>\n",
       "    </tr>\n",
       "    <tr>\n",
       "      <th>std</th>\n",
       "      <td>1.847296e+01</td>\n",
       "    </tr>\n",
       "    <tr>\n",
       "      <th>min</th>\n",
       "      <td>1.700000e+01</td>\n",
       "    </tr>\n",
       "    <tr>\n",
       "      <th>25%</th>\n",
       "      <td>3.275000e+01</td>\n",
       "    </tr>\n",
       "    <tr>\n",
       "      <th>50%</th>\n",
       "      <td>4.850000e+01</td>\n",
       "    </tr>\n",
       "    <tr>\n",
       "      <th>75%</th>\n",
       "      <td>6.425000e+01</td>\n",
       "    </tr>\n",
       "    <tr>\n",
       "      <th>max</th>\n",
       "      <td>8.000000e+01</td>\n",
       "    </tr>\n",
       "  </tbody>\n",
       "</table>\n",
       "</div>"
      ],
      "text/plain": [
       "       clue_numbers\n",
       "count  4.000000e+06\n",
       "mean   4.850000e+01\n",
       "std    1.847296e+01\n",
       "min    1.700000e+01\n",
       "25%    3.275000e+01\n",
       "50%    4.850000e+01\n",
       "75%    6.425000e+01\n",
       "max    8.000000e+01"
      ]
     },
     "execution_count": 8,
     "metadata": {},
     "output_type": "execute_result"
    }
   ],
   "source": [
    "df.describe()"
   ]
  },
  {
   "cell_type": "code",
   "execution_count": 11,
   "id": "646defd8-357d-48ae-95f0-440ebedfffda",
   "metadata": {},
   "outputs": [
    {
     "name": "stdout",
     "output_type": "stream",
     "text": [
      "<class 'pandas.core.frame.DataFrame'>\n",
      "RangeIndex: 4000000 entries, 0 to 3999999\n",
      "Data columns (total 3 columns):\n",
      " #   Column        Dtype \n",
      "---  ------        ----- \n",
      " 0   quizzes       object\n",
      " 1   solutions     object\n",
      " 2   clue_numbers  int64 \n",
      "dtypes: int64(1), object(2)\n",
      "memory usage: 91.6+ MB\n"
     ]
    }
   ],
   "source": [
    "df.info()"
   ]
  },
  {
   "cell_type": "code",
   "execution_count": 13,
   "id": "0fe3a402-d765-417b-ba37-551573190647",
   "metadata": {},
   "outputs": [
    {
     "data": {
      "text/plain": [
       "[[6, 4, 7, 1, 3, 2, 5, 8, 9],\n",
       " [8, 5, 9, 4, 7, 6, 1, 2, 3],\n",
       " [2, 1, 3, 5, 9, 8, 4, 6, 7],\n",
       " [9, 6, 5, 2, 4, 7, 8, 3, 1],\n",
       " [7, 2, 4, 8, 1, 3, 6, 9, 5],\n",
       " [3, 8, 1, 6, 5, 9, 2, 7, 4],\n",
       " [5, 7, 6, 3, 2, 4, 9, 1, 8],\n",
       " [1, 9, 0, 0, 6, 5, 3, 4, 2],\n",
       " [4, 3, 2, 9, 8, 1, 7, 5, 6]]"
      ]
     },
     "execution_count": 13,
     "metadata": {},
     "output_type": "execute_result"
    }
   ],
   "source": [
    "string_to_sudoku_board(df['quizzes'][86823])\n"
   ]
  },
  {
   "cell_type": "code",
   "execution_count": 44,
   "id": "9e4aadbf-6cc3-45b0-a137-8eab761e040d",
   "metadata": {},
   "outputs": [
    {
     "data": {
      "text/plain": [
       "False"
      ]
     },
     "execution_count": 44,
     "metadata": {},
     "output_type": "execute_result"
    }
   ],
   "source": []
  },
  {
   "cell_type": "code",
   "execution_count": 35,
   "id": "0b86aff3-18f8-47b5-aca8-eca56c44cc31",
   "metadata": {},
   "outputs": [
    {
     "ename": "TypeError",
     "evalue": "'in <string>' requires string as left operand, not int",
     "output_type": "error",
     "traceback": [
      "\u001b[1;31m---------------------------------------------------------------------------\u001b[0m",
      "\u001b[1;31mTypeError\u001b[0m                                 Traceback (most recent call last)",
      "Cell \u001b[1;32mIn[35], line 1\u001b[0m\n\u001b[1;32m----> 1\u001b[0m \u001b[38;5;28;01mif\u001b[39;00m \u001b[38;5;241;43m0\u001b[39;49m\u001b[43m \u001b[49m\u001b[38;5;129;43;01min\u001b[39;49;00m\u001b[43m \u001b[49m\u001b[43mfirst_quiz\u001b[49m:\n\u001b[0;32m      2\u001b[0m     \u001b[38;5;28mprint\u001b[39m(\u001b[38;5;241m1\u001b[39m)\n",
      "\u001b[1;31mTypeError\u001b[0m: 'in <string>' requires string as left operand, not int"
     ]
    }
   ],
   "source": [
    "if 0 in first_quiz:\n",
    "    print(1)"
   ]
  },
  {
   "cell_type": "code",
   "execution_count": null,
   "id": "e06919eb-0dd6-4f3e-8437-2afb3deea991",
   "metadata": {},
   "outputs": [],
   "source": []
  }
 ],
 "metadata": {
  "kernelspec": {
   "display_name": "Python 3 (ipykernel)",
   "language": "python",
   "name": "python3"
  },
  "language_info": {
   "codemirror_mode": {
    "name": "ipython",
    "version": 3
   },
   "file_extension": ".py",
   "mimetype": "text/x-python",
   "name": "python",
   "nbconvert_exporter": "python",
   "pygments_lexer": "ipython3",
   "version": "3.8.12"
  }
 },
 "nbformat": 4,
 "nbformat_minor": 5
}
